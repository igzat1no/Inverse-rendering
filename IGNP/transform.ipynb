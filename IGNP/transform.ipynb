{
 "cells": [
  {
   "cell_type": "markdown",
   "metadata": {},
   "source": [
    "## Transform the Generated Numpy file from LLFF to Json File"
   ]
  },
  {
   "cell_type": "code",
   "execution_count": null,
   "metadata": {},
   "outputs": [],
   "source": [
    "# read the numpy file\n",
    "import numpy as np\n",
    "a = np.load(\"poses_bounds.npy\")"
   ]
  },
  {
   "cell_type": "code",
   "execution_count": 1,
   "metadata": {},
   "outputs": [],
   "source": [
    "img_list = []\n",
    "with open(\"view_imgs.txt\", \"r\") as f:\n",
    "    for line in f:\n",
    "        img_list.append(line.strip())"
   ]
  },
  {
   "cell_type": "code",
   "execution_count": 4,
   "metadata": {},
   "outputs": [],
   "source": [
    "# transform the numpy file to the json file\n",
    "# the numpy file is as follows:\n",
    "# [R11 R12 R13 T1 height]\n",
    "# [R21 R22 R23 T2 width]\n",
    "# [R31 R32 R33 T3 focal]\n",
    "# the json file is as follows:\n",
    "# {\n",
    "#   \"camera_angle_x\": 1.047,\n",
    "#   \"frames\": [\n",
    "#     {\n",
    "#       \"file_path\": \"your file path\",\n",
    "#       \"rotation\": 0.0,\n",
    "#       \"transform_matrix\": [\n",
    "#         [R T],\n",
    "#         [0 1]\n",
    "#       ]\n",
    "#     },\n",
    "#     ...\n",
    "b = {}\n",
    "foc = a[0][14]\n",
    "h, w = a[0][4], a[0][9]\n",
    "b[\"camera_angle_x\"] = 2 * np.arctan(0.5 * w / foc)\n",
    "frames = []\n",
    "for i in range(len(img_list)):\n",
    "  tm = a[i][:15].reshape(3, 5)[:,:4].tolist()\n",
    "  tm.append([0.0, 0.0, 0.0, 1.0])\n",
    "  subframe = {\"file_path\": img_list[i], \"rotation\": 0.0,\n",
    "              \"transform_matrix\": tm}\n",
    "  frames.append(subframe)\n",
    "b[\"frames\"] = frames"
   ]
  },
  {
   "cell_type": "code",
   "execution_count": 5,
   "metadata": {},
   "outputs": [],
   "source": [
    "import json\n",
    "with open(\"transforms.json\", \"w\") as f:\n",
    "    json.dump(b, f, indent=2)"
   ]
  }
 ],
 "metadata": {
  "kernelspec": {
   "display_name": "Python 3",
   "language": "python",
   "name": "python3"
  },
  "language_info": {
   "codemirror_mode": {
    "name": "ipython",
    "version": 3
   },
   "file_extension": ".py",
   "mimetype": "text/x-python",
   "name": "python",
   "nbconvert_exporter": "python",
   "pygments_lexer": "ipython3",
   "version": "3.8.5"
  }
 },
 "nbformat": 4,
 "nbformat_minor": 2
}
